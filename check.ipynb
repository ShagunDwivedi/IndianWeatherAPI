{
 "cells": [
  {
   "cell_type": "code",
   "execution_count": 1,
   "metadata": {},
   "outputs": [],
   "source": [
    "import json\n",
    "from urllib.parse import urlencode\n",
    "\n",
    "import requests\n",
    "from bs4 import BeautifulSoup\n",
    "\n",
    "import pandas as pd\n",
    "\n",
    "from datetime import datetime"
   ]
  },
  {
   "cell_type": "code",
   "execution_count": 3,
   "metadata": {},
   "outputs": [],
   "source": [
    "main_url = 'https://city.imd.gov.in/citywx/menu_test.php##'\n",
    "response = requests.get(main_url)    \n",
    "soup = BeautifulSoup(response.text, 'html.parser')"
   ]
  },
  {
   "cell_type": "code",
   "execution_count": null,
   "metadata": {},
   "outputs": [],
   "source": [
    "soup"
   ]
  },
  {
   "cell_type": "code",
   "execution_count": 2,
   "metadata": {},
   "outputs": [],
   "source": [
    "import json\n",
    "from urllib.parse import urlencode\n",
    "\n",
    "import requests\n",
    "from bs4 import BeautifulSoup"
   ]
  },
  {
   "cell_type": "code",
   "execution_count": 2,
   "metadata": {},
   "outputs": [],
   "source": [
    "main_url = 'https://city.imd.gov.in/citywx/menu_test.php##'\n",
    "response = requests.get(main_url)"
   ]
  },
  {
   "cell_type": "code",
   "execution_count": 3,
   "metadata": {},
   "outputs": [],
   "source": [
    "\n",
    "soup = BeautifulSoup(response.text, 'html.parser')\n",
    "\n",
    "all_states = soup.find_all('a', attrs={'target':'mainframe'})"
   ]
  },
  {
   "cell_type": "code",
   "execution_count": 4,
   "metadata": {},
   "outputs": [],
   "source": [
    "city_link_dict = {}\n",
    "for i in all_states:\n",
    "    #https://city.imd.gov.in/citywx/\n",
    "    if(i['href']!=None and i.text!=''):\n",
    "        city_link_dict[i.text.lower().rstrip(\" \")] = \"https://city.imd.gov.in/citywx/\"+i['href']\n",
    "#print(city_link_dict)\n",
    "with open(\"/city_links.json\", \"w\") as outfile:\n",
    "    json.dump(city_link_dict, outfile, indent=4)"
   ]
  },
  {
   "cell_type": "code",
   "execution_count": 24,
   "metadata": {},
   "outputs": [
    {
     "name": "stdout",
     "output_type": "stream",
     "text": [
      "new delhi-palam\n"
     ]
    }
   ],
   "source": [
    "\n",
    "from difflib import get_close_matches\n",
    "# get_close_matches(word, possibilities, n=3, cutoff=0.6)\n",
    "\n",
    "city = 'new delhi-palam'\n",
    "\n",
    "with open('./city_links.json') as json_file:\n",
    "    data = json.load(json_file)\n",
    "\n",
    "city_list = list(data.keys())\n",
    "\n",
    "if(city in city_list):\n",
    "    print(city)"
   ]
  },
  {
   "cell_type": "code",
   "execution_count": 40,
   "metadata": {},
   "outputs": [
    {
     "data": {
      "text/plain": [
       "{'max_temp': '12.7',\n",
       " 'max_temp_departure': '-7',\n",
       " 'min_temp': '4.5',\n",
       " 'min_temp_departure': '-3',\n",
       " '24hr_rainfall': 'NIL',\n",
       " 'total_rainfall': '0',\n",
       " 'humidity_0830': '100',\n",
       " 'humidity_1730': '74',\n",
       " 'sunset': '17:40',\n",
       " 'sunrise': '07:15',\n",
       " 'moonset': '08:23',\n",
       " 'moonrise': '17:55'}"
      ]
     },
     "execution_count": 40,
     "metadata": {},
     "output_type": "execute_result"
    }
   ],
   "source": [
    "url = data[city]\n",
    "\n",
    "response = requests.get(url)\n",
    "\n",
    "soup = BeautifulSoup(response.content, 'html.parser')\n",
    "\n",
    "table_cells = soup.find_all('td')\n",
    "\n",
    "daily_list = {}\n",
    "\n",
    "\n",
    "daily_list['max_temp'] = table_cells[4].font.text.strip()\n",
    "daily_list['max_temp_departure'] = table_cells[6].font.text.strip()\n",
    "daily_list['min_temp'] = table_cells[8].font.text.strip()\n",
    "daily_list['min_temp_departure'] = table_cells[10].font.text.strip()\n",
    "daily_list['24hr_rainfall'] = table_cells[12].font.text.strip()\n",
    "daily_list['total_rainfall'] = table_cells[14].font.text.strip()\n",
    "daily_list['humidity_0830'] = table_cells[16].font.text.strip()\n",
    "daily_list['humidity_1730'] = table_cells[18].font.text.strip()\n",
    "daily_list['sunset'] = table_cells[20].font.text.strip()\n",
    "daily_list['sunrise'] = table_cells[22].font.text.strip()\n",
    "daily_list['moonset'] = table_cells[24].font.text.strip()\n",
    "daily_list['moonrise'] = table_cells[26].font.text.strip()\n",
    "\n",
    "daily_list"
   ]
  },
  {
   "cell_type": "code",
   "execution_count": 48,
   "metadata": {},
   "outputs": [
    {
     "data": {
      "text/plain": [
       "'Did you mean any of these: fvfsfv, cergt, jyugtr'"
      ]
     },
     "execution_count": 48,
     "metadata": {},
     "output_type": "execute_result"
    }
   ],
   "source": [
    "'Did you mean any of these: '+', '.join(i for i in ['fvfsfv','cergt','jyugtr'])"
   ]
  }
 ],
 "metadata": {
  "interpreter": {
   "hash": "8c3d4d9970fc5c09c50d9318a9c7fbf4d0159e4b28833276f5678ee22bded273"
  },
  "kernelspec": {
   "display_name": "Python 3.10.5 64-bit",
   "language": "python",
   "name": "python3"
  },
  "language_info": {
   "codemirror_mode": {
    "name": "ipython",
    "version": 3
   },
   "file_extension": ".py",
   "mimetype": "text/x-python",
   "name": "python",
   "nbconvert_exporter": "python",
   "pygments_lexer": "ipython3",
   "version": "3.10.5"
  },
  "orig_nbformat": 4
 },
 "nbformat": 4,
 "nbformat_minor": 2
}

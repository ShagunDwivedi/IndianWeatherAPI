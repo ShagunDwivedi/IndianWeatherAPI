{
 "cells": [
  {
   "cell_type": "code",
   "execution_count": 1,
   "metadata": {},
   "outputs": [],
   "source": [
    "import json\n",
    "from urllib.parse import urlencode\n",
    "\n",
    "import requests\n",
    "from bs4 import BeautifulSoup\n",
    "\n",
    "import pandas as pd\n",
    "\n",
    "from datetime import datetime"
   ]
  },
  {
   "cell_type": "code",
   "execution_count": 3,
   "metadata": {},
   "outputs": [],
   "source": [
    "main_url = 'https://city.imd.gov.in/citywx/menu_test.php##'\n",
    "response = requests.get(main_url)    \n",
    "soup = BeautifulSoup(response.text, 'html.parser')"
   ]
  },
  {
   "cell_type": "code",
   "execution_count": null,
   "metadata": {},
   "outputs": [],
   "source": [
    "soup"
   ]
  },
  {
   "cell_type": "code",
   "execution_count": 2,
   "metadata": {},
   "outputs": [],
   "source": [
    "import json\n",
    "from urllib.parse import urlencode\n",
    "\n",
    "import requests\n",
    "from bs4 import BeautifulSoup"
   ]
  },
  {
   "cell_type": "code",
   "execution_count": 2,
   "metadata": {},
   "outputs": [],
   "source": [
    "main_url = 'https://city.imd.gov.in/citywx/menu_test.php##'\n",
    "response = requests.get(main_url)"
   ]
  },
  {
   "cell_type": "code",
   "execution_count": 3,
   "metadata": {},
   "outputs": [],
   "source": [
    "\n",
    "soup = BeautifulSoup(response.text, 'html.parser')\n",
    "\n",
    "all_states = soup.find_all('a', attrs={'target':'mainframe'})"
   ]
  },
  {
   "cell_type": "code",
   "execution_count": 4,
   "metadata": {},
   "outputs": [],
   "source": [
    "city_link_dict = {}\n",
    "for i in all_states:\n",
    "    #https://city.imd.gov.in/citywx/\n",
    "    if(i['href']!=None and i.text!=''):\n",
    "        city_link_dict[i.text.lower().rstrip(\" \")] = \"https://city.imd.gov.in/citywx/\"+i['href']\n",
    "#print(city_link_dict)\n",
    "with open(\"/city_links.json\", \"w\") as outfile:\n",
    "    json.dump(city_link_dict, outfile, indent=4)"
   ]
  },
  {
   "cell_type": "code",
   "execution_count": 24,
   "metadata": {},
   "outputs": [
    {
     "name": "stdout",
     "output_type": "stream",
     "text": [
      "new delhi-palam\n"
     ]
    }
   ],
   "source": [
    "\n",
    "from difflib import get_close_matches\n",
    "# get_close_matches(word, possibilities, n=3, cutoff=0.6)\n",
    "\n",
    "city = 'new delhi-palam'\n",
    "\n",
    "with open('./city_links.json') as json_file:\n",
    "    data = json.load(json_file)\n",
    "\n",
    "city_list = list(data.keys())\n",
    "\n",
    "if(city in city_list):\n",
    "    print(city)"
   ]
  },
  {
   "cell_type": "code",
   "execution_count": 27,
   "metadata": {},
   "outputs": [
    {
     "data": {
      "text/plain": [
       "['5.0', '6.0', '7.0', '7.0', '8.0', '9.0', '9.0']"
      ]
     },
     "execution_count": 27,
     "metadata": {},
     "output_type": "execute_result"
    }
   ],
   "source": [
    "url = data[city]\n",
    "\n",
    "response = requests.get(url)\n",
    "\n",
    "soup = BeautifulSoup(response.content, 'html.parser')\n",
    "\n",
    "#daily highest temperature\n",
    "table_cells = soup.find_all('td')\n",
    "#print(table_cells)\n",
    "\n",
    "datelist=[]\n",
    "low_temp_daily_list = []\n",
    "high_temp_daily_list = []\n",
    "summ_daily = []\n",
    "\n",
    "for x in range(33,68,5):\n",
    "    #these numbers are very prone to change \n",
    "    #imd is kind of unreliable with this \n",
    "    datelist.append(table_cells[x].font.text.strip())\n",
    "    low_temp_daily_list.append(table_cells[x+1].font.text.strip())\n",
    "    high_temp_daily_list.append(table_cells[x+2].font.text.strip())\n",
    "    summ_daily.append(table_cells[x+4].font.text.strip())\n",
    "\n",
    "# it recursively appends into lists, change to recursively adds dicts to main list\n",
    "# this is forecast"
   ]
  }
 ],
 "metadata": {
  "interpreter": {
   "hash": "8c3d4d9970fc5c09c50d9318a9c7fbf4d0159e4b28833276f5678ee22bded273"
  },
  "kernelspec": {
   "display_name": "Python 3.10.5 64-bit",
   "language": "python",
   "name": "python3"
  },
  "language_info": {
   "codemirror_mode": {
    "name": "ipython",
    "version": 3
   },
   "file_extension": ".py",
   "mimetype": "text/x-python",
   "name": "python",
   "nbconvert_exporter": "python",
   "pygments_lexer": "ipython3",
   "version": "3.10.5"
  },
  "orig_nbformat": 4
 },
 "nbformat": 4,
 "nbformat_minor": 2
}
